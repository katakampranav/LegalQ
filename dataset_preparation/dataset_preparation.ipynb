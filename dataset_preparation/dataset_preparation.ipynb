{
 "cells": [
  {
   "cell_type": "code",
   "execution_count": 1,
   "metadata": {},
   "outputs": [
    {
     "name": "stderr",
     "output_type": "stream",
     "text": [
      "c:\\Users\\PRANAV\\AppData\\Local\\Programs\\Python\\Python312\\Lib\\site-packages\\fuzzywuzzy\\fuzz.py:11: UserWarning: Using slow pure-python SequenceMatcher. Install python-Levenshtein to remove this warning\n",
      "  warnings.warn('Using slow pure-python SequenceMatcher. Install python-Levenshtein to remove this warning')\n"
     ]
    }
   ],
   "source": [
    "import pandas as pd\n",
    "import spacy\n",
    "from nltk.corpus import stopwords\n",
    "import re\n",
    "from fuzzywuzzy import fuzz\n",
    "from fuzzywuzzy import process"
   ]
  },
  {
   "cell_type": "code",
   "execution_count": 2,
   "metadata": {},
   "outputs": [
    {
     "data": {
      "text/html": [
       "<div>\n",
       "<style scoped>\n",
       "    .dataframe tbody tr th:only-of-type {\n",
       "        vertical-align: middle;\n",
       "    }\n",
       "\n",
       "    .dataframe tbody tr th {\n",
       "        vertical-align: top;\n",
       "    }\n",
       "\n",
       "    .dataframe thead th {\n",
       "        text-align: right;\n",
       "    }\n",
       "</style>\n",
       "<table border=\"1\" class=\"dataframe\">\n",
       "  <thead>\n",
       "    <tr style=\"text-align: right;\">\n",
       "      <th></th>\n",
       "      <th>Description</th>\n",
       "      <th>Offense</th>\n",
       "      <th>Punishment</th>\n",
       "      <th>Section</th>\n",
       "    </tr>\n",
       "  </thead>\n",
       "  <tbody>\n",
       "    <tr>\n",
       "      <th>0</th>\n",
       "      <td>Description of IPC Section 140 According to se...</td>\n",
       "      <td>Wearing the dress or carrying any token used b...</td>\n",
       "      <td>3 Months or Fine or Both</td>\n",
       "      <td>IPC_140</td>\n",
       "    </tr>\n",
       "    <tr>\n",
       "      <th>1</th>\n",
       "      <td>Description of IPC Section 127 According to se...</td>\n",
       "      <td>Receiving property taken by war or depredation...</td>\n",
       "      <td>7 Years + Fine + forfeiture of property</td>\n",
       "      <td>IPC_127</td>\n",
       "    </tr>\n",
       "    <tr>\n",
       "      <th>2</th>\n",
       "      <td>Description of IPC Section 128 According to se...</td>\n",
       "      <td>Public servant voluntarily allowing prisoner o...</td>\n",
       "      <td>Imprisonment for Life or 10 Years + Fine</td>\n",
       "      <td>IPC_128</td>\n",
       "    </tr>\n",
       "    <tr>\n",
       "      <th>3</th>\n",
       "      <td>Description of IPC Section 129 According to se...</td>\n",
       "      <td>Public servant negligently suffering prisoner ...</td>\n",
       "      <td>Simple Imprisonment 3 Years + Fine</td>\n",
       "      <td>IPC_129</td>\n",
       "    </tr>\n",
       "    <tr>\n",
       "      <th>4</th>\n",
       "      <td>Description of IPC Section 130 According to se...</td>\n",
       "      <td>Aiding escape of, rescuing or harbouring, such...</td>\n",
       "      <td>Imprisonment for Life or 10 Years + Fine</td>\n",
       "      <td>IPC_130</td>\n",
       "    </tr>\n",
       "  </tbody>\n",
       "</table>\n",
       "</div>"
      ],
      "text/plain": [
       "                                         Description  \\\n",
       "0  Description of IPC Section 140 According to se...   \n",
       "1  Description of IPC Section 127 According to se...   \n",
       "2  Description of IPC Section 128 According to se...   \n",
       "3  Description of IPC Section 129 According to se...   \n",
       "4  Description of IPC Section 130 According to se...   \n",
       "\n",
       "                                             Offense  \\\n",
       "0  Wearing the dress or carrying any token used b...   \n",
       "1  Receiving property taken by war or depredation...   \n",
       "2  Public servant voluntarily allowing prisoner o...   \n",
       "3  Public servant negligently suffering prisoner ...   \n",
       "4  Aiding escape of, rescuing or harbouring, such...   \n",
       "\n",
       "                                 Punishment  Section  \n",
       "0                  3 Months or Fine or Both  IPC_140  \n",
       "1   7 Years + Fine + forfeiture of property  IPC_127  \n",
       "2  Imprisonment for Life or 10 Years + Fine  IPC_128  \n",
       "3        Simple Imprisonment 3 Years + Fine  IPC_129  \n",
       "4  Imprisonment for Life or 10 Years + Fine  IPC_130  "
      ]
     },
     "execution_count": 2,
     "metadata": {},
     "output_type": "execute_result"
    }
   ],
   "source": [
    "# Load the dataset\n",
    "df = pd.read_parquet(\"hf://datasets/karan842/ipc-sections/data/train-00000-of-00001.parquet\")\n",
    "df.head()"
   ]
  },
  {
   "cell_type": "code",
   "execution_count": 3,
   "metadata": {},
   "outputs": [],
   "source": [
    "# Initialize NLP model and stopwords\n",
    "nlp = spacy.load(\"en_core_web_sm\")\n",
    "stop_words = set(stopwords.words(\"english\"))"
   ]
  },
  {
   "cell_type": "code",
   "execution_count": 4,
   "metadata": {},
   "outputs": [],
   "source": [
    "# Step 1: Clean the description and section columns\n",
    "def clean_description(text):\n",
    "    # Remove \"Description of IPC Section XXX\" and similar text\n",
    "    text = re.sub(r\"Description of IPC Section \\d{3}\", \"\", text)\n",
    "    \n",
    "    # Remove extra spaces\n",
    "    text = ' '.join(text.split())\n",
    "    \n",
    "    return text\n",
    "\n",
    "df[\"Description\"] = df[\"Description\"].apply(clean_description)\n",
    "\n",
    "df[\"Section\"] = df[\"Section\"].str.replace(\"IPC_\", \"\", regex=False)"
   ]
  },
  {
   "cell_type": "code",
   "execution_count": 5,
   "metadata": {},
   "outputs": [],
   "source": [
    "# Step 2: Normalize text\n",
    "def normalize_text(text):\n",
    "    if not text:\n",
    "        return None\n",
    "    # Standardize phrases and convert to lowercase\n",
    "    text = text.replace(\"Life imprisonment\", \"life imprisonment\")\n",
    "    text = text.lower()  # Convert to lowercase\n",
    "    return ' '.join(text.split())  # Remove extra spaces\n",
    "\n",
    "# Apply normalization to relevant columns\n",
    "text_columns = [\"Description\", \"Offense\", \"Punishment\"]  # Add other relevant columns if needed\n",
    "for col in text_columns:\n",
    "    df[col] = df[col].apply(normalize_text)"
   ]
  },
  {
   "cell_type": "code",
   "execution_count": 6,
   "metadata": {},
   "outputs": [],
   "source": [
    "# Step 3: Select the order of columns\n",
    "df_cleaned = df[[\"Section\", \"Description\", \"Offense\", \"Punishment\"]]"
   ]
  },
  {
   "cell_type": "code",
   "execution_count": 7,
   "metadata": {},
   "outputs": [],
   "source": [
    "# Step 4: Save the cleaned dataset\n",
    "df_cleaned.to_csv(\"final_dataset.csv\", index=False)"
   ]
  },
  {
   "cell_type": "code",
   "execution_count": 8,
   "metadata": {},
   "outputs": [
    {
     "name": "stdout",
     "output_type": "stream",
     "text": [
      "Cleaned Dataset Preview:\n"
     ]
    },
    {
     "data": {
      "text/html": [
       "<div>\n",
       "<style scoped>\n",
       "    .dataframe tbody tr th:only-of-type {\n",
       "        vertical-align: middle;\n",
       "    }\n",
       "\n",
       "    .dataframe tbody tr th {\n",
       "        vertical-align: top;\n",
       "    }\n",
       "\n",
       "    .dataframe thead th {\n",
       "        text-align: right;\n",
       "    }\n",
       "</style>\n",
       "<table border=\"1\" class=\"dataframe\">\n",
       "  <thead>\n",
       "    <tr style=\"text-align: right;\">\n",
       "      <th></th>\n",
       "      <th>Section</th>\n",
       "      <th>Description</th>\n",
       "      <th>Offense</th>\n",
       "      <th>Punishment</th>\n",
       "    </tr>\n",
       "  </thead>\n",
       "  <tbody>\n",
       "    <tr>\n",
       "      <th>0</th>\n",
       "      <td>140</td>\n",
       "      <td>according to section 140 of indian penal code,...</td>\n",
       "      <td>wearing the dress or carrying any token used b...</td>\n",
       "      <td>3 months or fine or both</td>\n",
       "    </tr>\n",
       "    <tr>\n",
       "      <th>1</th>\n",
       "      <td>127</td>\n",
       "      <td>according to section 127 of indian penal code,...</td>\n",
       "      <td>receiving property taken by war or depredation...</td>\n",
       "      <td>7 years + fine + forfeiture of property</td>\n",
       "    </tr>\n",
       "    <tr>\n",
       "      <th>2</th>\n",
       "      <td>128</td>\n",
       "      <td>according to section 128 of indian penal code,...</td>\n",
       "      <td>public servant voluntarily allowing prisoner o...</td>\n",
       "      <td>imprisonment for life or 10 years + fine</td>\n",
       "    </tr>\n",
       "    <tr>\n",
       "      <th>3</th>\n",
       "      <td>129</td>\n",
       "      <td>according to section 129 of indian penal code,...</td>\n",
       "      <td>public servant negligently suffering prisoner ...</td>\n",
       "      <td>simple imprisonment 3 years + fine</td>\n",
       "    </tr>\n",
       "    <tr>\n",
       "      <th>4</th>\n",
       "      <td>130</td>\n",
       "      <td>according to section 130 of indian penal code,...</td>\n",
       "      <td>aiding escape of, rescuing or harbouring, such...</td>\n",
       "      <td>imprisonment for life or 10 years + fine</td>\n",
       "    </tr>\n",
       "  </tbody>\n",
       "</table>\n",
       "</div>"
      ],
      "text/plain": [
       "  Section                                        Description  \\\n",
       "0     140  according to section 140 of indian penal code,...   \n",
       "1     127  according to section 127 of indian penal code,...   \n",
       "2     128  according to section 128 of indian penal code,...   \n",
       "3     129  according to section 129 of indian penal code,...   \n",
       "4     130  according to section 130 of indian penal code,...   \n",
       "\n",
       "                                             Offense  \\\n",
       "0  wearing the dress or carrying any token used b...   \n",
       "1  receiving property taken by war or depredation...   \n",
       "2  public servant voluntarily allowing prisoner o...   \n",
       "3  public servant negligently suffering prisoner ...   \n",
       "4  aiding escape of, rescuing or harbouring, such...   \n",
       "\n",
       "                                 Punishment  \n",
       "0                  3 months or fine or both  \n",
       "1   7 years + fine + forfeiture of property  \n",
       "2  imprisonment for life or 10 years + fine  \n",
       "3        simple imprisonment 3 years + fine  \n",
       "4  imprisonment for life or 10 years + fine  "
      ]
     },
     "execution_count": 8,
     "metadata": {},
     "output_type": "execute_result"
    }
   ],
   "source": [
    "# Display output\n",
    "print(\"Cleaned Dataset Preview:\")\n",
    "df_cleaned.head()"
   ]
  }
 ],
 "metadata": {
  "kernelspec": {
   "display_name": "Python 3",
   "language": "python",
   "name": "python3"
  },
  "language_info": {
   "codemirror_mode": {
    "name": "ipython",
    "version": 3
   },
   "file_extension": ".py",
   "mimetype": "text/x-python",
   "name": "python",
   "nbconvert_exporter": "python",
   "pygments_lexer": "ipython3",
   "version": "3.12.3"
  }
 },
 "nbformat": 4,
 "nbformat_minor": 2
}
